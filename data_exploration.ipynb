{
 "cells": [
  {
   "cell_type": "code",
   "execution_count": null,
   "id": "07fa64b9",
   "metadata": {},
   "outputs": [],
   "source": [
    "import kagglehub\n",
    "\n",
    "# Download latest version\n",
    "path = kagglehub.dataset_download(\"rishitmurarka/gym-exercises-dataset\")\n",
    "\n",
    "print(\"Path to dataset files:\", path)"
   ]
  },
  {
   "cell_type": "code",
   "execution_count": null,
   "id": "d7793f28",
   "metadata": {},
   "outputs": [],
   "source": [
    "import pandas as pd"
   ]
  },
  {
   "cell_type": "code",
   "execution_count": null,
   "id": "4306f98a",
   "metadata": {},
   "outputs": [],
   "source": [
    "gym=pd.read_csv(f\"{path}/gym_exercise_dataset.csv\")\n",
    "gym\n"
   ]
  },
  {
   "cell_type": "code",
   "execution_count": null,
   "id": "182b4483",
   "metadata": {},
   "outputs": [],
   "source": [
    "import seaborn as sns\n",
    "import matplotlib.pyplot as plt"
   ]
  },
  {
   "cell_type": "code",
   "execution_count": null,
   "id": "0d67fe14",
   "metadata": {},
   "outputs": [],
   "source": [
    "ax=plt.axes()\n",
    "sns.heatmap(gym.isna().transpose(),cbar=False,ax=ax)\n",
    "\n",
    "plt.xlabel(\"coloumn\")\n",
    "plt.ylabel(\"missing values\")\n",
    "plt.show()"
   ]
  },
  {
   "cell_type": "code",
   "execution_count": null,
   "id": "ea73ddb9",
   "metadata": {},
   "outputs": [],
   "source": []
  },
  {
   "cell_type": "code",
   "execution_count": null,
   "id": "5d01e62f",
   "metadata": {},
   "outputs": [],
   "source": [
    "\n",
    "gym.drop(['Stabilizer_Muscles', 'Antagonist_Muscles', 'parent_id'], axis=1, inplace=True)\n",
    "gym"
   ]
  },
  {
   "cell_type": "code",
   "execution_count": null,
   "id": "aadc738f",
   "metadata": {},
   "outputs": [],
   "source": [
    "gym.drop(['Dynamic_Stabilizer_Muscles'], axis=1, inplace=True)\n",
    "gym"
   ]
  },
  {
   "cell_type": "code",
   "execution_count": null,
   "id": "0361763d",
   "metadata": {},
   "outputs": [],
   "source": [
    "ax=plt.axes()\n",
    "sns.heatmap(gym.isna().transpose(),cbar=False,ax=ax)\n",
    "\n",
    "plt.xlabel(\"coloumn\")\n",
    "plt.ylabel(\"missing values\")\n",
    "plt.show()"
   ]
  },
  {
   "cell_type": "code",
   "execution_count": null,
   "id": "0c50ff07",
   "metadata": {},
   "outputs": [],
   "source": [
    "def generate_exercise_description(row):\n",
    "    return f\"\"\"\n",
    "    Exercise Name: {row['Exercise Name']}\n",
    "    Equipment: {row['Equipment']}\n",
    "    Variation: {row['Variation']}\n",
    "    Utility: {row['Utility']}\n",
    "    Mechanics: {row['Mechanics']}\n",
    "    Force: {row['Force']}\n",
    "    Preparation: {row['Preparation']}\n",
    "    Execution: {row['Execution']}\n",
    "    Difficulty (1-5): {row['Difficulty (1-5)']}\n",
    "    Main Muscle: {row['Main_muscle']}\n",
    "    Synergist Muscles: {row['Synergist_Muscles']}\n",
    "    Secondary Muscles: {row['Secondary Muscles']}\n",
    "    \"\"\"\n"
   ]
  },
  {
   "cell_type": "code",
   "execution_count": null,
   "id": "e7bffd4b",
   "metadata": {},
   "outputs": [],
   "source": [
    "gym['llm_entry'] = gym.apply(generate_exercise_description, axis=1)\n",
    "gym"
   ]
  },
  {
   "cell_type": "code",
   "execution_count": null,
   "id": "2678a862",
   "metadata": {},
   "outputs": [],
   "source": [
    "from langchain.vectorstores import FAISS\n",
    "from langchain.embeddings import HuggingFaceEmbeddings\n",
    "from langchain.docstore.document import Document\n"
   ]
  },
  {
   "cell_type": "code",
   "execution_count": null,
   "id": "e2fb4dd8",
   "metadata": {},
   "outputs": [],
   "source": [
    "embedding = HuggingFaceEmbeddings(model_name=\"all-MiniLM-L6-v2\")\n"
   ]
  },
  {
   "cell_type": "code",
   "execution_count": null,
   "id": "106428fd",
   "metadata": {},
   "outputs": [],
   "source": [
    "docs = [\n",
    "    Document(page_content=row['llm_entry'], metadata={'Main_muscle': row['Main_muscle']})\n",
    "    for _, row in gym.iterrows()\n",
    "]\n",
    "\n",
    "vectorstore = FAISS.from_documents(docs, embedding)\n"
   ]
  },
  {
   "cell_type": "code",
   "execution_count": null,
   "id": "464e4115",
   "metadata": {},
   "outputs": [],
   "source": [
    "query = \"give me some chest and back exercise\"\n",
    "results = vectorstore.similarity_search(query, k=4)\n",
    "\n",
    "for r in results:\n",
    "    print(r.page_content)\n"
   ]
  },
  {
   "cell_type": "code",
   "execution_count": null,
   "id": "63ea2510",
   "metadata": {},
   "outputs": [],
   "source": [
    "from rapidfuzz import process\n",
    "\n",
    "# Your canonical list of valid muscles\n",
    "VALID_MUSCLES = ['Neck', 'Shoulder', 'Upper Arms', 'Forearm', 'Back', 'Chest', 'Hips', 'Thighs', 'Calves']\n",
    "\n",
    "def correct_muscle_name(user_input, valid_list=VALID_MUSCLES, threshold=80):\n",
    "    \"\"\"\n",
    "    Corrects a possibly misspelled muscle name using fuzzy matching.\n",
    "    Returns the best match if above the threshold, else None.\n",
    "    \"\"\"\n",
    "    match, score, _ = process.extractOne(user_input, valid_list)\n",
    "    return match if score >= threshold else None"
   ]
  },
  {
   "cell_type": "code",
   "execution_count": null,
   "id": "ba78309b",
   "metadata": {},
   "outputs": [],
   "source": [
    "def parse_query(query: str):\n",
    "    import spacy\n",
    "    import re\n",
    "    nlp = spacy.load(\"en_core_web_sm\")\n",
    "    \n",
    "    # Extract number\n",
    "    number_match = re.search(r'(\\d+)', query)\n",
    "    num_exercises = int(number_match.group(1)) if number_match else 5\n",
    "\n",
    "    # Tokenize\n",
    "    doc = nlp(query.lower())\n",
    "    found_muscles = set()\n",
    "\n",
    "    for token in doc:\n",
    "        # Try to correct each token to a valid muscle\n",
    "        corrected = correct_muscle_name(token.text.capitalize())\n",
    "        if corrected:\n",
    "            found_muscles.add(corrected)\n",
    "\n",
    "    return num_exercises, list(found_muscles)\n"
   ]
  },
  {
   "cell_type": "code",
   "execution_count": null,
   "id": "320d7689",
   "metadata": {},
   "outputs": [],
   "source": [
    "def get_exercises(query: str, vectorstore):\n",
    "    num_exercises, muscles = parse_query(query)\n",
    "    if not muscles:\n",
    "        return [\" No valid muscles found. Try 'Chest', 'Back', etc.\"]\n",
    "\n",
    "    per_muscle = max(1, num_exercises // len(muscles))\n",
    "    all_results = []\n",
    "    seen = set()\n",
    "\n",
    "    for muscle in muscles:\n",
    "        results = vectorstore.similarity_search(f\"exercises for {muscle}\", k=per_muscle * 2)\n",
    "        count = 0\n",
    "        for res in results:\n",
    "            if res.page_content not in seen and count < per_muscle:\n",
    "                all_results.append(res)\n",
    "                seen.add(res.page_content)\n",
    "                count += 1\n",
    "\n",
    "    # Fallback if not enough\n",
    "    if len(all_results) < num_exercises:\n",
    "        extra_needed = num_exercises - len(all_results)\n",
    "        fallback = vectorstore.similarity_search(query, k=extra_needed * 2)\n",
    "        for res in fallback:\n",
    "            if res.page_content not in seen and len(all_results) < num_exercises:\n",
    "                all_results.append(res)\n",
    "                seen.add(res.page_content)\n",
    "\n",
    "    return [doc.page_content for doc in all_results[:num_exercises]]\n"
   ]
  },
  {
   "cell_type": "code",
   "execution_count": null,
   "id": "87387194",
   "metadata": {},
   "outputs": [],
   "source": [
    "query = \"give me 3 sholder,back,neck and chest workout\"\n",
    "results = get_exercises(query, vectorstore)\n",
    "\n",
    "print(f\"\\n--- Results for: '{query}' ---\\n\")\n",
    "for res in results:\n",
    "    print(res)\n",
    "    print(\"-\" * 60)\n"
   ]
  },
  {
   "cell_type": "code",
   "execution_count": null,
   "id": "34fe58e9",
   "metadata": {},
   "outputs": [],
   "source": [
    "unique_main_muscles = gym['Main_muscle'].unique()\n",
    "unique_main_muscles"
   ]
  }
 ],
 "metadata": {
  "kernelspec": {
   "display_name": "venv (3.12.3)",
   "language": "python",
   "name": "python3"
  },
  "language_info": {
   "codemirror_mode": {
    "name": "ipython",
    "version": 3
   },
   "file_extension": ".py",
   "mimetype": "text/x-python",
   "name": "python",
   "nbconvert_exporter": "python",
   "pygments_lexer": "ipython3",
   "version": "3.12.3"
  }
 },
 "nbformat": 4,
 "nbformat_minor": 5
}
